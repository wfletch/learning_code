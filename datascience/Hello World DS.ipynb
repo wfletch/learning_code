{
 "cells": [
  {
   "cell_type": "code",
   "execution_count": null,
   "id": "9a5ab81f",
   "metadata": {},
   "outputs": [],
   "source": [
    "import tensorflow as tf\n",
    "import os\n",
    "import platform\n",
    "\n",
    "print(\"TensorFlow version:\", tf.__version__)\n",
    "\n",
    "mnist = tf.keras.datasets.mnist\n",
    "\n",
    "(x_train, y_train), (x_test, y_test) = mnist.load_data()\n",
    "x_train, x_test = x_train / 255.0, x_test / 255.0\n",
    "\n",
    "model = tf.keras.models.Sequential([\n",
    "  tf.keras.layers.Flatten(input_shape=(28, 28)),\n",
    "  tf.keras.layers.Dense(128, activation='relu'),\n",
    "  tf.keras.layers.Dropout(0.2),\n",
    "  tf.keras.layers.Dense(10)\n",
    "])\n",
    "\n",
    "tf.debugging.set_log_device_placement(True)\n",
    "tf.config.run_functions_eagerly(False)\n",
    "print(tf.config.list_physical_devices())\n",
    "\n",
    "print(tf.config.list_physical_devices('GPU'))"
   ]
  },
  {
   "cell_type": "code",
   "execution_count": 29,
   "id": "16b62319",
   "metadata": {},
   "outputs": [
    {
     "data": {
      "text/plain": [
       "array([[ 0.5609575 , -0.02706783,  0.27855206, -0.02784897,  0.79859716,\n",
       "         0.4704686 , -0.03770313, -0.07783635, -0.10525171,  0.33428743]],\n",
       "      dtype=float32)"
      ]
     },
     "execution_count": 29,
     "metadata": {},
     "output_type": "execute_result"
    }
   ],
   "source": [
    "predictions = model(x_train[:1]).numpy()\n",
    "predictions"
   ]
  },
  {
   "cell_type": "code",
   "execution_count": 30,
   "id": "74edf89f",
   "metadata": {},
   "outputs": [
    {
     "data": {
      "text/plain": [
       "array([[0.13450933, 0.07470956, 0.10141572, 0.07465123, 0.17059173,\n",
       "        0.12287217, 0.07391922, 0.07101135, 0.06909098, 0.10722864]],\n",
       "      dtype=float32)"
      ]
     },
     "execution_count": 30,
     "metadata": {},
     "output_type": "execute_result"
    }
   ],
   "source": [
    "tf.nn.softmax(predictions).numpy()"
   ]
  },
  {
   "cell_type": "code",
   "execution_count": 31,
   "id": "499922db",
   "metadata": {},
   "outputs": [
    {
     "data": {
      "text/plain": [
       "2.0966105"
      ]
     },
     "execution_count": 31,
     "metadata": {},
     "output_type": "execute_result"
    }
   ],
   "source": [
    "loss_fn = tf.keras.losses.SparseCategoricalCrossentropy(from_logits=True)\n",
    "loss_fn(y_train[:1], predictions).numpy()"
   ]
  },
  {
   "cell_type": "code",
   "execution_count": 32,
   "id": "774859e3",
   "metadata": {},
   "outputs": [],
   "source": [
    "model.compile(optimizer='adam',\n",
    "              loss=loss_fn,\n",
    "              metrics=['accuracy'])"
   ]
  },
  {
   "cell_type": "code",
   "execution_count": 33,
   "id": "c431b04c",
   "metadata": {},
   "outputs": [
    {
     "name": "stdout",
     "output_type": "stream",
     "text": [
      "Epoch 1/5\n",
      "1875/1875 [==============================] - 1s 626us/step - loss: 0.2967 - accuracy: 0.9138\n",
      "Epoch 2/5\n",
      "1875/1875 [==============================] - 1s 604us/step - loss: 0.1429 - accuracy: 0.9567\n",
      "Epoch 3/5\n",
      "1875/1875 [==============================] - 1s 604us/step - loss: 0.1069 - accuracy: 0.9677\n",
      "Epoch 4/5\n",
      "1875/1875 [==============================] - 1s 608us/step - loss: 0.0881 - accuracy: 0.9726\n",
      "Epoch 5/5\n",
      "1875/1875 [==============================] - 1s 594us/step - loss: 0.0754 - accuracy: 0.9764\n"
     ]
    },
    {
     "data": {
      "text/plain": [
       "<keras.callbacks.History at 0x167421c70>"
      ]
     },
     "execution_count": 33,
     "metadata": {},
     "output_type": "execute_result"
    }
   ],
   "source": [
    "model.fit(x_train, y_train, epochs=5)"
   ]
  },
  {
   "cell_type": "code",
   "execution_count": 34,
   "id": "564794a0",
   "metadata": {},
   "outputs": [
    {
     "name": "stdout",
     "output_type": "stream",
     "text": [
      "313/313 - 0s - loss: 0.0763 - accuracy: 0.9765 - 142ms/epoch - 452us/step\n"
     ]
    },
    {
     "data": {
      "text/plain": [
       "[0.07625996321439743, 0.9764999747276306]"
      ]
     },
     "execution_count": 34,
     "metadata": {},
     "output_type": "execute_result"
    }
   ],
   "source": [
    "model.evaluate(x_test,  y_test, verbose=2)"
   ]
  },
  {
   "cell_type": "code",
   "execution_count": 35,
   "id": "6b9d3e16",
   "metadata": {},
   "outputs": [],
   "source": [
    "probability_model = tf.keras.Sequential([\n",
    "  model,\n",
    "  tf.keras.layers.Softmax()\n",
    "])"
   ]
  },
  {
   "cell_type": "code",
   "execution_count": 36,
   "id": "8ca18fca",
   "metadata": {},
   "outputs": [
    {
     "data": {
      "text/plain": [
       "<tf.Tensor: shape=(5, 10), dtype=float32, numpy=\n",
       "array([[2.42398990e-09, 2.46972292e-07, 3.05372596e-05, 2.14473534e-04,\n",
       "        2.01067274e-10, 1.21183765e-08, 5.32731750e-14, 9.99753535e-01,\n",
       "        6.36020587e-08, 1.11584268e-06],\n",
       "       [1.16772036e-09, 1.62268654e-04, 9.99826491e-01, 4.95744735e-06,\n",
       "        6.18500607e-12, 3.13638111e-07, 2.68529421e-09, 4.36832509e-13,\n",
       "        5.95839037e-06, 1.07151214e-15],\n",
       "       [1.85353457e-07, 9.98745799e-01, 2.02809315e-04, 4.43527460e-06,\n",
       "        2.79457981e-05, 2.26359975e-06, 1.84310829e-05, 8.40902270e-04,\n",
       "        1.56515453e-04, 7.88022987e-07],\n",
       "       [9.99805987e-01, 1.80888620e-07, 6.03628941e-05, 1.11560695e-07,\n",
       "        1.45754041e-06, 7.00189730e-07, 4.89418562e-05, 7.05293205e-05,\n",
       "        8.27773228e-09, 1.17776881e-05],\n",
       "       [3.20452472e-07, 1.26853428e-09, 5.34800483e-06, 1.49605214e-07,\n",
       "        9.92806017e-01, 5.37420476e-07, 3.66440190e-06, 9.54827701e-05,\n",
       "        1.08385336e-06, 7.08738202e-03]], dtype=float32)>"
      ]
     },
     "execution_count": 36,
     "metadata": {},
     "output_type": "execute_result"
    }
   ],
   "source": [
    "probability_model(x_test[:5])\n"
   ]
  },
  {
   "cell_type": "code",
   "execution_count": null,
   "id": "cd64759b",
   "metadata": {},
   "outputs": [],
   "source": []
  }
 ],
 "metadata": {
  "kernelspec": {
   "display_name": "Python 3 (ipykernel)",
   "language": "python",
   "name": "python3"
  },
  "language_info": {
   "codemirror_mode": {
    "name": "ipython",
    "version": 3
   },
   "file_extension": ".py",
   "mimetype": "text/x-python",
   "name": "python",
   "nbconvert_exporter": "python",
   "pygments_lexer": "ipython3",
   "version": "3.9.9"
  }
 },
 "nbformat": 4,
 "nbformat_minor": 5
}
